{
 "cells": [
  {
   "cell_type": "markdown",
   "id": "834f10d8-942f-4cda-9b33-268d6d1da228",
   "metadata": {},
   "source": [
    "# Introduction to Performance Measurement\n",
    "\n",
    "1. Extract data\n",
    "2. Work with the data\n",
    "\n",
    "Now moving to backtesting. Backtesting is very widely used although it has limitations and crticisms. It uses the past to predict the future, which in itself is a flaw and not grounded. Secondly, backtesting does not take into account slippage, trading costs, drawdowns, etc. \n",
    "When we devise a strategy to run on the market, then we test it on historical data to see how it performs, and so we may be able to quantify its risks and rewards."
   ]
  },
  {
   "cell_type": "markdown",
   "id": "74ba9600-bac9-450b-b085-8dd1799e5da4",
   "metadata": {},
   "source": [
    "# Compounded Annual Growth rate\n",
    "\n",
    "CAGR is arguably the most important metric used by one and all in quant. It speaks of per year return of the value of an asset. Works similar to Compound Interest, where we want to estimate the rate. \n",
    "Uses cumulative return."
   ]
  },
  {
   "cell_type": "code",
   "execution_count": 1,
   "id": "f422d977-c819-48ce-86e6-6948a23923db",
   "metadata": {},
   "outputs": [],
   "source": [
    "# Get the Data \n",
    "\n",
    "import yfinance as yf\n",
    "import numpy as np\n",
    "import pandas as pd\n",
    "import matplotlib.pyplot as plt\n",
    "import datetime as dt "
   ]
  },
  {
   "cell_type": "code",
   "execution_count": 11,
   "id": "85b729b6-0f1f-4e55-89d5-8a644cd2be21",
   "metadata": {},
   "outputs": [
    {
     "name": "stderr",
     "output_type": "stream",
     "text": [
      "[*********************100%%**********************]  1 of 1 completed\n",
      "[*********************100%%**********************]  1 of 1 completed\n",
      "[*********************100%%**********************]  1 of 1 completed\n"
     ]
    }
   ],
   "source": [
    "tickers = [\"AMZN\",\"MSFT\",\"GOOG\"]\n",
    "ohlcv_data = {}\n",
    "\n",
    "for ticker in tickers:\n",
    "    ohlcv_data[ticker] = yf.download(ticker, period = \"6mo\", interval = \"1d\")\n",
    "    "
   ]
  },
  {
   "cell_type": "markdown",
   "id": "565cb24c-152b-47e8-8ee8-9e62565a969f",
   "metadata": {},
   "source": [
    "### Simple Buy and Hold Strategy !"
   ]
  },
  {
   "cell_type": "code",
   "execution_count": 24,
   "id": "5a9bee0c-4057-4fe4-90e8-a434911c514f",
   "metadata": {},
   "outputs": [],
   "source": [
    "def CAGR(DF):\n",
    "    df = DF.copy()\n",
    "    df[\"return\"] = df[\"Adj Close\"]/df[\"Adj Close\"].shift(1) - 1\n",
    "    df[\"cumret\"] = (1+df[\"return\"]).cumprod()\n",
    "    n = len(df)/252 # no of trading days in a year.. rule of thumb\n",
    "    CAGR = (df[\"cumret\"].iloc[-1])**(1/n) - 1\n",
    "    return CAGR"
   ]
  },
  {
   "cell_type": "code",
   "execution_count": 25,
   "id": "50c0078c-7a07-42dc-b986-2d6715a7fe22",
   "metadata": {},
   "outputs": [
    {
     "name": "stdout",
     "output_type": "stream",
     "text": [
      "CAGR for AMZN is : 0.611326423251572\n",
      "CAGR for MSFT is : 0.341533443186282\n",
      "CAGR for GOOG is : 0.7078063823314968\n"
     ]
    }
   ],
   "source": [
    "for ticker in tickers:\n",
    "    print(f\"CAGR for {ticker} is :\", CAGR(ohlcv_data[ticker]))"
   ]
  },
  {
   "cell_type": "markdown",
   "id": "ece8274b-f1b8-43ef-ad31-20e54401b51b",
   "metadata": {},
   "source": [
    "# Volatility  \n",
    "\n",
    "Standard deviation of results. Changes with different timescales : hours, seconds, days, months all have different volatility. To compare apples with apples, we multiply daily data with $\\sqrt{252}$. Single most used quantifier for risk.\n",
    "Assumes a normal distribution to returns. Not the case many times(think turbulence). So, tail risk is not captured - extreme events."
   ]
  },
  {
   "cell_type": "code",
   "execution_count": 40,
   "id": "666e5f25-2efe-4352-a1de-c14d394e12dc",
   "metadata": {},
   "outputs": [],
   "source": [
    "def volatility(DF):\n",
    "    df = DF.copy()\n",
    "    volatility = df[\"Adj Close\"].pct_change().std() * np.sqrt(252)\n",
    "    return volatility"
   ]
  },
  {
   "cell_type": "code",
   "execution_count": 41,
   "id": "4f354ba5-9ccc-445c-8a9d-b5eea6c4fff6",
   "metadata": {},
   "outputs": [
    {
     "data": {
      "text/plain": [
       "0.24096053058531944"
      ]
     },
     "execution_count": 41,
     "metadata": {},
     "output_type": "execute_result"
    }
   ],
   "source": [
    "volatility(ohlcv_data[\"AMZN\"])"
   ]
  },
  {
   "cell_type": "markdown",
   "id": "fdc3a56c-15a9-405f-914b-f15f662afe0a",
   "metadata": {},
   "source": [
    "# Sharpe Ratio\n",
    "\n",
    "talks about both returns and risk. Most used JPI metric in the industry. \n",
    "Def : The average return earned in excess of the risk free rate per unit of volatility. If you dont want to take any risk, then you end up with the sharpe ratio.\n",
    "\n",
    "\\begin{equation}\n",
    "Sharpe Ratio = \\frac{R_p - R_f}{\\sigma_p}\n",
    "\\end{equation}"
   ]
  },
  {
   "cell_type": "markdown",
   "id": "af0c7b79-a4d7-418e-a8c6-d92906680f4f",
   "metadata": {
    "jp-MarkdownHeadingCollapsed": true
   },
   "source": [
    "how to calculate Risk free rate - govt. bonds in US, guilts in UK, usually constant. \n"
   ]
  },
  {
   "cell_type": "code",
   "execution_count": 42,
   "id": "172008cd-6ec8-4961-bc8d-7a376b6c9763",
   "metadata": {},
   "outputs": [],
   "source": [
    "def sharpe_ratio(stock, rf = 0.03):\n",
    "    rp = CAGR(stock)\n",
    "    σ_p = volatility(stock) \n",
    "    return (rp - rf)/σ_p  # x - μ/σ style "
   ]
  },
  {
   "cell_type": "code",
   "execution_count": 43,
   "id": "460db091-934b-4886-b4f2-9afc41b1585b",
   "metadata": {},
   "outputs": [],
   "source": [
    "# for sortino, we need to remove positive volatility \n",
    "# we use regular cagr for sortino. onpy σ changes\n",
    "\n",
    "def sortino(df, rf = 0.03):\n",
    "    returns = df[\"Adj Close\"].pct_change()\n",
    "    returns_neg = np.where(returns < 0 ,returns, 0)\n",
    "    returns_neg = pd.Series(returns_neg[returns_neg!=0]) # no need to convert to nan values \n",
    "    n = len(returns)/252\n",
    "    rp = CAGR(df) \n",
    "    σ_p = returns_neg.std() * np.sqrt(252)\n",
    "    return (rp - rf)/σ_p"
   ]
  },
  {
   "cell_type": "code",
   "execution_count": 45,
   "id": "0943fb38-cadd-4bdc-a2c2-079ec02f171f",
   "metadata": {},
   "outputs": [
    {
     "name": "stdout",
     "output_type": "stream",
     "text": [
      "Sharpe AMZN : 2.4125379448636948\n",
      "Sortino AMZN : 4.86968140165257\n",
      "Sharpe MSFT : 1.6461399063001732\n",
      "Sortino MSFT : 2.231099816897745\n",
      "Sharpe GOOG : 2.4658527138036916\n",
      "Sortino GOOG : 3.2824802071572554\n"
     ]
    }
   ],
   "source": [
    "for ticker in tickers:\n",
    "    print(f\"Sharpe {ticker} : {sharpe_ratio(ohlcv_data[ticker])}\")\n",
    "    print(f\"Sortino {ticker} : {sortino(ohlcv_data[ticker])}\")"
   ]
  },
  {
   "cell_type": "markdown",
   "id": "a02904ad-1848-4162-afad-89f0fec1b349",
   "metadata": {},
   "source": [
    "# Maximum Drawdown, Calmar ratio \n",
    "\n",
    "Largest % drop in asset price over a specified time period. Peak - trough. Peak must come before trough. Important risk metric. "
   ]
  },
  {
   "cell_type": "code",
   "execution_count": 53,
   "id": "71782cd0-0906-4a7b-9189-dadfb9481e56",
   "metadata": {},
   "outputs": [],
   "source": [
    "# how to find max drawdown? \n",
    "def max_drawdown(df):\n",
    "    returns = df[\"Adj Close\"].pct_change()\n",
    "    cum_returns = (returns + 1).cumprod()\n",
    "    #cum_returns.plot()\n",
    "    cum_roll_max = cum_returns.cummax()\n",
    "    drawdown = cum_roll_max - cum_returns # wow why does this work?\n",
    "    drawdown /= cum_roll_max\n",
    "    return drawdown.max()"
   ]
  },
  {
   "cell_type": "code",
   "execution_count": 54,
   "id": "9759f6c8-24df-4868-9c30-e45db2c08a3a",
   "metadata": {},
   "outputs": [],
   "source": [
    "def calmar(DF):\n",
    "    df = DF.copy()\n",
    "    return CAGR(df)/max_drawdown(df)"
   ]
  },
  {
   "cell_type": "code",
   "execution_count": 55,
   "id": "78955c1a-ddd9-479b-9c46-7ec1d1215eff",
   "metadata": {},
   "outputs": [
    {
     "name": "stdout",
     "output_type": "stream",
     "text": [
      "AMZN max drawdown is 0.08135416363152236 \n",
      "AMZN calmar ratio is 7.514383972041733 \n",
      "MSFT max drawdown is 0.09325294654102148 \n",
      "MSFT calmar ratio is 3.662441304587016 \n",
      "GOOG max drawdown is 0.14389052550991255 \n",
      "GOOG calmar ratio is 4.919061764652019 \n"
     ]
    }
   ],
   "source": [
    "for ticker in tickers:\n",
    "    print(f\"{ticker} max drawdown is {max_drawdown(ohlcv_data[ticker])} \")\n",
    "    print(f\"{ticker} calmar ratio is {calmar(ohlcv_data[ticker])} \")"
   ]
  },
  {
   "cell_type": "markdown",
   "id": "2c3f633b-8c6c-485d-8afc-eccd5c8c4d1e",
   "metadata": {},
   "source": [
    "# DONEDONEDONE "
   ]
  }
 ],
 "metadata": {
  "kernelspec": {
   "display_name": "Python 3 (ipykernel)",
   "language": "python",
   "name": "python3"
  },
  "language_info": {
   "codemirror_mode": {
    "name": "ipython",
    "version": 3
   },
   "file_extension": ".py",
   "mimetype": "text/x-python",
   "name": "python",
   "nbconvert_exporter": "python",
   "pygments_lexer": "ipython3",
   "version": "3.12.1"
  }
 },
 "nbformat": 4,
 "nbformat_minor": 5
}
